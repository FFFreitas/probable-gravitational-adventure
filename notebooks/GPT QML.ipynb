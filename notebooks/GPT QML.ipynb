{
 "cells": [
  {
   "cell_type": "code",
   "execution_count": 1,
   "metadata": {},
   "outputs": [],
   "source": [
    "%config Completer.use_jedi = False"
   ]
  },
  {
   "cell_type": "code",
   "execution_count": 2,
   "metadata": {},
   "outputs": [],
   "source": [
    "import torch\n",
    "import torch.nn as nn\n",
    "import torch.nn.functional as F\n",
    "import torch.optim as optim\n",
    "import torchvision\n",
    "from torchvision import transforms\n",
    "from torchvision.datasets import ImageFolder\n",
    "from torchvision.utils import make_grid\n",
    "from torch.utils.data import DataLoader, Dataset, random_split\n",
    "import pytorch_lightning as pl\n",
    "\n",
    "import pennylane as qml\n",
    "from pennylane import numpy as np\n",
    "\n",
    "import matplotlib.pyplot as plt"
   ]
  },
  {
   "cell_type": "code",
   "execution_count": 3,
   "metadata": {},
   "outputs": [
    {
     "data": {
      "text/plain": [
       "<torch._C.Generator at 0x7f9518091810>"
      ]
     },
     "execution_count": 3,
     "metadata": {},
     "output_type": "execute_result"
    }
   ],
   "source": [
    "torch.random.manual_seed(42)"
   ]
  },
  {
   "cell_type": "code",
   "execution_count": 4,
   "metadata": {},
   "outputs": [],
   "source": [
    "class GWDataModule(pl.LightningDataModule):\n",
    "\n",
    "    def __init__(self, train_data_dir, val_data_dir, batch_size):\n",
    "        super().__init__()\n",
    "        self.batch_size = batch_size\n",
    "        self.train_data_dir = train_data_dir\n",
    "        self.val_data_dir = val_data_dir\n",
    "\n",
    "    def setup(self, stage=None):\n",
    "        train_transform = transforms.Compose([\n",
    "            #transforms.Grayscale(num_output_channels=1),\n",
    "            transforms.Resize(28),\n",
    "            transforms.RandomHorizontalFlip(p=.2),\n",
    "            transforms.RandomRotation(35),\n",
    "            transforms.ToTensor(),\n",
    "            transforms.Normalize([0.07621749,0.07365512,0.093327], \n",
    "                                 [0.037140302,0.036283262,0.04071455])\n",
    "        ])\n",
    "        val_transform = transforms.Compose([\n",
    "            #transforms.Grayscale(num_output_channels=1),\n",
    "            transforms.Resize(28),\n",
    "            transforms.ToTensor(),\n",
    "            transforms.Normalize([0.07621749,0.07365512,0.093327], \n",
    "                                 [0.037140302,0.036283262,0.04071455])\n",
    "        ])\n",
    "        self.train_ds = ImageFolder(self.train_data_dir, transform=train_transform)\n",
    "        self.val_ds = ImageFolder(self.val_data_dir, transform=train_transform)\n",
    "\n",
    "        \n",
    "    def train_dataloader(self):\n",
    "        return DataLoader(self.train_ds, batch_size=self.batch_size, num_workers=4, pin_memory=True)\n",
    "\n",
    "    def val_dataloader(self):\n",
    "        return DataLoader(self.val_ds, batch_size=self.batch_size, num_workers=4, pin_memory=True)"
   ]
  },
  {
   "cell_type": "code",
   "execution_count": 5,
   "metadata": {},
   "outputs": [],
   "source": [
    "GW_dts = GWDataModule('/home/felipe/GW_playgorund/new project/data Osvaldo/classifier_o3/train/', \n",
    "                      '/home/felipe/GW_playgorund/new project/data Osvaldo/classifier_o3/val/', batch_size=32)"
   ]
  },
  {
   "cell_type": "code",
   "execution_count": 6,
   "metadata": {},
   "outputs": [],
   "source": [
    "GW_dts.setup()"
   ]
  },
  {
   "cell_type": "code",
   "execution_count": 7,
   "metadata": {},
   "outputs": [],
   "source": [
    "bt_x, bt_y = next(iter(GW_dts.train_dataloader()))"
   ]
  },
  {
   "cell_type": "code",
   "execution_count": 8,
   "metadata": {},
   "outputs": [],
   "source": [
    "def imshow(inp, title=None):\n",
    "    inp = inp.numpy().transpose((1,2,0))\n",
    "    mean = np.array([0.07621749,0.07365512,0.093327])\n",
    "    std = np.array([0.037140302,0.036283262,0.04071455])\n",
    "    inp = std * inp + mean\n",
    "    inp = np.clip(inp, 0, 1)\n",
    "    plt.imshow(inp)\n",
    "    if title is not None:\n",
    "        plt.title(title)"
   ]
  },
  {
   "cell_type": "code",
   "execution_count": 9,
   "metadata": {},
   "outputs": [],
   "source": [
    "grid_size = 4\n",
    "rnd_idx = [i.item() for i in np.random.randint(0, len(bt_x),4)]\n",
    "x_grid = [bt_x[i] for i in rnd_idx]\n",
    "y_grid = [bt_y[i] for i in rnd_idx]"
   ]
  },
  {
   "cell_type": "code",
   "execution_count": 10,
   "metadata": {},
   "outputs": [],
   "source": [
    "x_grid = make_grid(x_grid, nrow=grid_size, padding=1)"
   ]
  },
  {
   "cell_type": "code",
   "execution_count": 11,
   "metadata": {},
   "outputs": [
    {
     "data": {
      "image/png": "[encoded data removed]",
      "text/plain": [
       "<Figure size 864x576 with 1 Axes>"
      ]
     },
     "metadata": {
      "needs_background": "light"
     },
     "output_type": "display_data"
    }
   ],
   "source": [
    "plt.figure(figsize=(12,8))\n",
    "imshow(x_grid, title=[GW_dts.train_ds.classes[i] for i in y_grid])"
   ]
  },
  {
   "cell_type": "code",
   "execution_count": 12,
   "metadata": {},
   "outputs": [],
   "source": [
    "def squared_euclidean_distance(a, b):\n",
    "    b = torch.transpose(b, 0, 1)\n",
    "    a2 = torch.sum(torch.square(a), dim=1, keepdims=True)\n",
    "    b2 = torch.sum(torch.square(b), dim=0, keepdims=True)\n",
    "    ab = torch.matmul(a, b)\n",
    "    d = a2 - 2 * ab + b2\n",
    "    return d\n",
    "\n",
    "\n",
    "def quantize(x, centroids):\n",
    "    b, c, h, w = x.shape\n",
    "    # [B, C, H, W] => [B, H, W, C]\n",
    "    x = x.permute(0, 2, 3, 1).contiguous()\n",
    "    x = x.view(-1, c)  # flatten to pixels\n",
    "    d = squared_euclidean_distance(x, centroids)\n",
    "    x = torch.argmin(d, 1)\n",
    "    x = x.view(b, h, w)\n",
    "    return x\n",
    "\n",
    "\n",
    "def unquantize(x, centroids):\n",
    "    return centroids[x]"
   ]
  },
  {
   "cell_type": "code",
   "execution_count": 13,
   "metadata": {},
   "outputs": [],
   "source": [
    "def _to_sequence(x):\n",
    "    \"\"\"shape batch of images for input into GPT2 model\"\"\"\n",
    "    x = x.view(x.shape[0], -1)  # flatten images into sequences\n",
    "    x = x.transpose(0, 1).contiguous()  # to shape [seq len, batch]\n",
    "    return x"
   ]
  },
  {
   "cell_type": "code",
   "execution_count": 14,
   "metadata": {},
   "outputs": [],
   "source": [
    "n_qubits = 4                # Number of qubits\n",
    "step = 0.0004               # Learning rate\n",
    "q_depth = 6                 # Depth of the quantum circuit (number of variational layers)\n",
    "gamma_lr_scheduler = 0.1    # Learning rate reduction applied every 10 epochs.\n",
    "q_delta = 0.01              # Initial spread of random quantum weights"
   ]
  },
  {
   "cell_type": "markdown",
   "metadata": {},
   "source": [
    "# Variational quantum circuit"
   ]
  },
  {
   "cell_type": "code",
   "execution_count": 15,
   "metadata": {},
   "outputs": [],
   "source": [
    "def H_layer(nqubits):\n",
    "    for idx in range(nqubits):\n",
    "        qml.Hadamard(wires=idx)\n",
    "        \n",
    "def RY_layer(w):\n",
    "    for idx, element in enumerate(w):\n",
    "        qml.RY(element, wires=idx)\n",
    "        \n",
    "def entangling_layer(nqubits):\n",
    "    for i in range(0, nqubits -1, 2):\n",
    "        qml.CNOT(wires=[i,i+1])\n",
    "    for i in range(1, nqubits -1, 2):\n",
    "        qml.CNOT(wires=[i, i+1])"
   ]
  },
  {
   "cell_type": "code",
   "execution_count": 16,
   "metadata": {},
   "outputs": [],
   "source": [
    "dev = qml.device(\"default.qubit\", wires=n_qubits)"
   ]
  },
  {
   "cell_type": "code",
   "execution_count": 17,
   "metadata": {},
   "outputs": [],
   "source": [
    "@qml.qnode(dev, interface='torch')\n",
    "def quantum_net(q_input_features, q_weights_flat):\n",
    "    \n",
    "    q_weights = q_weights_flat.reshape(q_depth, n_qubits)\n",
    "    \n",
    "    H_layer(n_qubits)\n",
    "    \n",
    "    RY_layer(q_input_features)\n",
    "    \n",
    "    for k in range(q_depth):\n",
    "        entangling_layer(n_qubits)\n",
    "        RY_layer(q_weights[k])\n",
    "        \n",
    "    exp_vals = [qml.expval(qml.PauliZ(position)) for position in range(n_qubits)]\n",
    "    return tuple(exp_vals)"
   ]
  },
  {
   "cell_type": "code",
   "execution_count": 18,
   "metadata": {},
   "outputs": [],
   "source": [
    "class DressedQuantumNet(nn.Module):\n",
    "    \n",
    "    def __init__(self):\n",
    "        \n",
    "        super().__init__()\n",
    "        self.pre_net = nn.Linear(16, n_qubits)\n",
    "        self.q_params = nn.Parameter(q_delta * torch.randn(q_depth * n_qubits))\n",
    "        self.post_net = nn.Linear(n_qubits, 3)\n",
    "\n",
    "    def forward(self, input_features):\n",
    "        # obtain the input features for the quantum circuit\n",
    "        # by reducing the feature dimension from 512 to 4\n",
    "        pre_out = self.pre_net(input_features)\n",
    "        q_in = torch.tanh(pre_out) * np.pi / 2.0\n",
    "\n",
    "        # Apply the quantum circuit to each element of the batch and append to q_out\n",
    "        q_out = torch.Tensor(0, n_qubits)\n",
    "        q_out = q_out.to('cuda')\n",
    "        for elem in q_in:\n",
    "            q_out_elem = quantum_net(elem, self.q_params).float().unsqueeze(0)\n",
    "            q_out = torch.cat((q_out, q_out_elem))\n",
    "\n",
    "        # return the two-dimensional prediction from the postprocessing layer\n",
    "        return self.post_net(q_out)"
   ]
  },
  {
   "cell_type": "code",
   "execution_count": 19,
   "metadata": {},
   "outputs": [],
   "source": [
    "from pl_bolts.models.vision.image_gpt.gpt2 import GPT2"
   ]
  },
  {
   "cell_type": "code",
   "execution_count": 20,
   "metadata": {},
   "outputs": [],
   "source": [
    "class ImageGPT(pl.LightningModule):\n",
    "    def __init__(\n",
    "        self,\n",
    "        centroids,\n",
    "        embed_dim=16,\n",
    "        num_heads=2,\n",
    "        num_layers=3,\n",
    "        num_pixels=28,\n",
    "        num_vocab=16,\n",
    "        num_classes=10,\n",
    "        classify=False,\n",
    "        learning_rate=3e-3,\n",
    "        steps=10_000,\n",
    "        warmup_steps=500,\n",
    "        **kwargs,\n",
    "    ):\n",
    "        super(ImageGPT, self).__init__()\n",
    "        self.save_hyperparameters()\n",
    "        self.gpt = GPT2(\n",
    "            embed_dim=embed_dim,\n",
    "            heads=num_heads,\n",
    "            layers=num_layers,\n",
    "            num_positions=num_pixels * num_pixels,\n",
    "            vocab_size=num_vocab,\n",
    "            num_classes=num_classes,\n",
    "        )\n",
    "\n",
    "        self.centroids = nn.Parameter(\n",
    "            torch.from_numpy(np.load(centroids)), requires_grad=False\n",
    "        )\n",
    "        self.criterion = nn.CrossEntropyLoss()\n",
    "        self.classify = classify\n",
    "        self.learning_rate = learning_rate\n",
    "        self.steps = steps\n",
    "        self.warmup_steps = warmup_steps\n",
    "        self.acc = pl.metrics.Accuracy()\n",
    "\n",
    "    def configure_optimizers(self):\n",
    "        optimizer = torch.optim.Adam(self.gpt.parameters(), lr=self.learning_rate)\n",
    "\n",
    "        # no learning rate schedule for fine-tuning\n",
    "        if self.classify:\n",
    "            return optimizer\n",
    "\n",
    "        scheduler = {\n",
    "            \"scheduler\": LambdaLR(\n",
    "                optimizer, learning_rate_schedule(self.warmup_steps, self.steps)\n",
    "            ),\n",
    "            \"interval\": \"step\",\n",
    "        }\n",
    "        return [optimizer], [scheduler]\n",
    "\n",
    "    def forward(self, x):\n",
    "        #x = quantize(x, self.centroids)\n",
    "        #x = _to_sequence(x)\n",
    "        return self.gpt(x, self.classify)\n",
    "\n",
    "    def training_step(self, batch, batch_idx):\n",
    "        x, y = batch\n",
    "        x = quantize(x, self.centroids)\n",
    "        x = _to_sequence(x)\n",
    "        \n",
    "        clf_logits, logits = self(x)\n",
    "        clf_loss = self.criterion(clf_logits, y)\n",
    "        gen_loss = self.criterion(logits.view(-1, logits.size(-1)), x.view(-1))\n",
    "        # joint loss for classification\n",
    "        loss = clf_loss + gen_loss\n",
    "\n",
    "        return {'train_loss': loss, 'clf_logits': clf_logits, 'targets':y}\n",
    "    \n",
    "    def training_step_end(self, outputs):\n",
    "        train_acc = self.acc(outputs['clf_logits'], outputs['targets'])\n",
    "        self.log('train_loss', outputs['train_loss'])\n",
    "        self.log('train_acc', train_acc*100)\n",
    "\n",
    "    def validation_step(self, batch, batch_idx):\n",
    "        x, y = batch\n",
    "\n",
    "        x = quantize(x, self.centroids)\n",
    "        x = _to_sequence(x)\n",
    "\n",
    "        clf_logits, logits = self.gpt(x, classify=True)\n",
    "        clf_loss = self.criterion(clf_logits, y)\n",
    "        gen_loss = self.criterion(logits.view(-1, logits.size(-1)), x.view(-1))\n",
    "        # joint loss for classification\n",
    "        loss = clf_loss + gen_loss\n",
    "        \n",
    "        return {'val_loss':loss, 'clf_logits':clf_logits, 'val_targets':y}\n",
    "    \n",
    "    def validation_step_end(self, outputs):\n",
    "        val_acc = self.acc(outputs['clf_logits'], outputs['val_targets'])\n",
    "        self.log('val_loss', outputs['val_loss'])\n",
    "        self.log('val_acc', val_acc*100)\n",
    "\n",
    "\n",
    "    def test_step(self, batch, batch_idx):\n",
    "        return self.validation_step(batch, batch_idx)"
   ]
  },
  {
   "cell_type": "code",
   "execution_count": null,
   "metadata": {},
   "outputs": [],
   "source": []
  },
  {
   "cell_type": "code",
   "execution_count": 21,
   "metadata": {},
   "outputs": [],
   "source": [
    "model = ImageGPT('/home/felipe/GW_playgorund/new project/data Osvaldo/centroids.npy', steps=25_000, num_classes=3, classify=True)"
   ]
  },
  {
   "cell_type": "code",
   "execution_count": 22,
   "metadata": {},
   "outputs": [],
   "source": [
    "model.gpt.clf_head = DressedQuantumNet()"
   ]
  },
  {
   "cell_type": "code",
   "execution_count": 23,
   "metadata": {},
   "outputs": [],
   "source": [
    "#from pytorch_lightning.loggers import TensorBoardLogger"
   ]
  },
  {
   "cell_type": "code",
   "execution_count": 24,
   "metadata": {},
   "outputs": [],
   "source": [
    "#logger = TensorBoardLogger('lightning_logs/', name='teste_2', log_graph=True)"
   ]
  },
  {
   "cell_type": "code",
   "execution_count": 25,
   "metadata": {},
   "outputs": [],
   "source": [
    "#xt = quantize(bt[0],model.centroids)\n",
    "#xt = _to_sequence(xt)"
   ]
  },
  {
   "cell_type": "code",
   "execution_count": 26,
   "metadata": {},
   "outputs": [],
   "source": [
    "#logger.log_graph(model.to('cuda'), bt_x.to('cuda'))"
   ]
  },
  {
   "cell_type": "code",
   "execution_count": 27,
   "metadata": {},
   "outputs": [],
   "source": [
    "#model"
   ]
  },
  {
   "cell_type": "code",
   "execution_count": 28,
   "metadata": {},
   "outputs": [
    {
     "name": "stderr",
     "output_type": "stream",
     "text": [
      "/home/felipe/anaconda3/envs/pennylane/lib/python3.7/site-packages/pytorch_lightning/utilities/distributed.py:49: UserWarning: num_processes is only used for `accelerator='ddp_cpu'`. Ignoring it.\n",
      "  warnings.warn(*args, **kwargs)\n",
      "GPU available: True, used: True\n",
      "INFO:lightning:GPU available: True, used: True\n",
      "TPU available: None, using: 0 TPU cores\n",
      "INFO:lightning:TPU available: None, using: 0 TPU cores\n",
      "LOCAL_RANK: 0 - CUDA_VISIBLE_DEVICES: [0]\n",
      "INFO:lightning:LOCAL_RANK: 0 - CUDA_VISIBLE_DEVICES: [0]\n"
     ]
    }
   ],
   "source": [
    "trainer = pl.Trainer(gpus=1, num_processes=4, max_epochs=11, progress_bar_refresh_rate=20)"
   ]
  },
  {
   "cell_type": "code",
   "execution_count": 29,
   "metadata": {},
   "outputs": [
    {
     "name": "stderr",
     "output_type": "stream",
     "text": [
      "\n",
      "  | Name      | Type             | Params\n",
      "-----------------------------------------------\n",
      "0 | gpt       | GPT2             | 23.1 K\n",
      "1 | criterion | CrossEntropyLoss | 0     \n",
      "2 | acc       | Accuracy         | 0     \n",
      "-----------------------------------------------\n",
      "23.1 K    Trainable params\n",
      "48        Non-trainable params\n",
      "23.1 K    Total params\n",
      "INFO:lightning:\n",
      "  | Name      | Type             | Params\n",
      "-----------------------------------------------\n",
      "0 | gpt       | GPT2             | 23.1 K\n",
      "1 | criterion | CrossEntropyLoss | 0     \n",
      "2 | acc       | Accuracy         | 0     \n",
      "-----------------------------------------------\n",
      "23.1 K    Trainable params\n",
      "48        Non-trainable params\n",
      "23.1 K    Total params\n"
     ]
    },
    {
     "data": {
      "application/vnd.jupyter.widget-view+json": {
       "model_id": "492dd49b37224df3b97ee8af7bbde714",
       "version_major": 2,
       "version_minor": 0
      },
      "text/plain": [
       "Validation sanity check: 0it [00:00, ?it/s]"
      ]
     },
     "metadata": {},
     "output_type": "display_data"
    },
    {
     "data": {
      "application/vnd.jupyter.widget-view+json": {
       "model_id": "a83b38b1e93745f1b9984e5aee327341",
       "version_major": 2,
       "version_minor": 0
      },
      "text/plain": [
       "Training: 0it [00:00, ?it/s]"
      ]
     },
     "metadata": {},
     "output_type": "display_data"
    },
    {
     "name": "stderr",
     "output_type": "stream",
     "text": [
      "/home/felipe/anaconda3/envs/pennylane/lib/python3.7/site-packages/pytorch_lightning/utilities/distributed.py:49: UserWarning: training_step returned None if it was on purpose, ignore this warning...\n",
      "  warnings.warn(*args, **kwargs)\n"
     ]
    },
    {
     "data": {
      "application/vnd.jupyter.widget-view+json": {
       "model_id": "d8e4d997997f4e3c86cc695e5762a7b4",
       "version_major": 2,
       "version_minor": 0
      },
      "text/plain": [
       "Validating: 0it [00:00, ?it/s]"
      ]
     },
     "metadata": {},
     "output_type": "display_data"
    },
    {
     "data": {
      "application/vnd.jupyter.widget-view+json": {
       "model_id": "c32a3e2008c24e968b3df40e395565a9",
       "version_major": 2,
       "version_minor": 0
      },
      "text/plain": [
       "Validating: 0it [00:00, ?it/s]"
      ]
     },
     "metadata": {},
     "output_type": "display_data"
    },
    {
     "data": {
      "application/vnd.jupyter.widget-view+json": {
       "model_id": "e06e992a622e4121b5898f57fdf64624",
       "version_major": 2,
       "version_minor": 0
      },
      "text/plain": [
       "Validating: 0it [00:00, ?it/s]"
      ]
     },
     "metadata": {},
     "output_type": "display_data"
    },
    {
     "data": {
      "application/vnd.jupyter.widget-view+json": {
       "model_id": "14a3f74f1a294fa5a59d93182f3b581d",
       "version_major": 2,
       "version_minor": 0
      },
      "text/plain": [
       "Validating: 0it [00:00, ?it/s]"
      ]
     },
     "metadata": {},
     "output_type": "display_data"
    },
    {
     "data": {
      "application/vnd.jupyter.widget-view+json": {
       "model_id": "9276dc45b75e40888a662cd0cfa11f20",
       "version_major": 2,
       "version_minor": 0
      },
      "text/plain": [
       "Validating: 0it [00:00, ?it/s]"
      ]
     },
     "metadata": {},
     "output_type": "display_data"
    },
    {
     "data": {
      "application/vnd.jupyter.widget-view+json": {
       "model_id": "3ac9a27c47774f14941b2cf21abf338a",
       "version_major": 2,
       "version_minor": 0
      },
      "text/plain": [
       "Validating: 0it [00:00, ?it/s]"
      ]
     },
     "metadata": {},
     "output_type": "display_data"
    },
    {
     "data": {
      "application/vnd.jupyter.widget-view+json": {
       "model_id": "29cd06008ed441eda2c6f8730d46ab1f",
       "version_major": 2,
       "version_minor": 0
      },
      "text/plain": [
       "Validating: 0it [00:00, ?it/s]"
      ]
     },
     "metadata": {},
     "output_type": "display_data"
    },
    {
     "data": {
      "application/vnd.jupyter.widget-view+json": {
       "model_id": "07e576c5bccc40ffa271e109b8e4414b",
       "version_major": 2,
       "version_minor": 0
      },
      "text/plain": [
       "Validating: 0it [00:00, ?it/s]"
      ]
     },
     "metadata": {},
     "output_type": "display_data"
    },
    {
     "data": {
      "application/vnd.jupyter.widget-view+json": {
       "model_id": "abc429824af0463981adad9bf9b2f542",
       "version_major": 2,
       "version_minor": 0
      },
      "text/plain": [
       "Validating: 0it [00:00, ?it/s]"
      ]
     },
     "metadata": {},
     "output_type": "display_data"
    },
    {
     "data": {
      "application/vnd.jupyter.widget-view+json": {
       "model_id": "566a9526b5974cf996e58d6157cfc23f",
       "version_major": 2,
       "version_minor": 0
      },
      "text/plain": [
       "Validating: 0it [00:00, ?it/s]"
      ]
     },
     "metadata": {},
     "output_type": "display_data"
    },
    {
     "data": {
      "application/vnd.jupyter.widget-view+json": {
       "model_id": "4b3765ace8654429a1f4315887dd3a84",
       "version_major": 2,
       "version_minor": 0
      },
      "text/plain": [
       "Validating: 0it [00:00, ?it/s]"
      ]
     },
     "metadata": {},
     "output_type": "display_data"
    },
    {
     "data": {
      "text/plain": [
       "1"
      ]
     },
     "execution_count": 29,
     "metadata": {},
     "output_type": "execute_result"
    }
   ],
   "source": [
    "trainer.fit(model, GW_dts)"
   ]
  },
  {
   "cell_type": "code",
   "execution_count": null,
   "metadata": {},
   "outputs": [],
   "source": []
  }
 ],
 "metadata": {
  "kernelspec": {
   "display_name": "PennyLane",
   "language": "python",
   "name": "pennylane"
  },
  "language_info": {
   "codemirror_mode": {
    "name": "ipython",
    "version": 3
   },
   "file_extension": ".py",
   "mimetype": "text/x-python",
   "name": "python",
   "nbconvert_exporter": "python",
   "pygments_lexer": "ipython3",
   "version": "3.7.9"
  }
 },
 "nbformat": 4,
 "nbformat_minor": 4
}
