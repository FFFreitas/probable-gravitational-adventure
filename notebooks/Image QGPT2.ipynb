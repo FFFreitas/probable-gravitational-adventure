{
 "cells": [
  {
   "cell_type": "code",
   "execution_count": 1,
   "metadata": {},
   "outputs": [],
   "source": [
    "%config Completer.use_jedi = False"
   ]
  },
  {
   "cell_type": "code",
   "execution_count": 2,
   "metadata": {},
   "outputs": [],
   "source": [
    "import torch\n",
    "import torch.nn as nn\n",
    "import torch.nn.functional as F\n",
    "import torch.optim as optim\n",
    "import torchvision\n",
    "from torchvision import transforms\n",
    "from torchvision.datasets import ImageFolder\n",
    "from torchvision.utils import make_grid\n",
    "from torch.utils.data import DataLoader, Dataset, random_split\n",
    "import pytorch_lightning as pl\n",
    "\n",
    "import pennylane as qml\n",
    "from pennylane import numpy as np\n",
    "\n",
    "import matplotlib.pyplot as plt"
   ]
  },
  {
   "cell_type": "code",
   "execution_count": 3,
   "metadata": {},
   "outputs": [
    {
     "data": {
      "text/plain": [
       "<torch._C.Generator at 0x7f46804c8830>"
      ]
     },
     "execution_count": 3,
     "metadata": {},
     "output_type": "execute_result"
    }
   ],
   "source": [
    "torch.random.manual_seed(42)"
   ]
  },
  {
   "cell_type": "code",
   "execution_count": 4,
   "metadata": {},
   "outputs": [],
   "source": [
    "class GWDataModule(pl.LightningDataModule):\n",
    "\n",
    "    def __init__(self, train_data_dir, val_data_dir, batch_size):\n",
    "        super().__init__()\n",
    "        self.batch_size = batch_size\n",
    "        self.train_data_dir = train_data_dir\n",
    "        self.val_data_dir = val_data_dir\n",
    "\n",
    "    def setup(self, stage=None):\n",
    "        train_transform = transforms.Compose([\n",
    "            #transforms.Grayscale(num_output_channels=1),\n",
    "            transforms.Resize(28),\n",
    "            transforms.RandomHorizontalFlip(p=.2),\n",
    "            transforms.RandomRotation(35),\n",
    "            transforms.ToTensor(),\n",
    "            transforms.Normalize([0.07621749,0.07365512,0.093327], \n",
    "                                 [0.037140302,0.036283262,0.04071455])\n",
    "        ])\n",
    "        val_transform = transforms.Compose([\n",
    "            #transforms.Grayscale(num_output_channels=1),\n",
    "            transforms.Resize(28),\n",
    "            transforms.ToTensor(),\n",
    "            transforms.Normalize([0.07621749,0.07365512,0.093327], \n",
    "                                 [0.037140302,0.036283262,0.04071455])\n",
    "        ])\n",
    "        self.train_ds = ImageFolder(self.train_data_dir, transform=train_transform)\n",
    "        self.val_ds = ImageFolder(self.val_data_dir, transform=train_transform)\n",
    "\n",
    "        \n",
    "    def train_dataloader(self):\n",
    "        return DataLoader(self.train_ds, batch_size=self.batch_size, num_workers=4, pin_memory=True)\n",
    "\n",
    "    def val_dataloader(self):\n",
    "        return DataLoader(self.val_ds, batch_size=self.batch_size, num_workers=4, pin_memory=True)"
   ]
  },
  {
   "cell_type": "code",
   "execution_count": 5,
   "metadata": {},
   "outputs": [],
   "source": [
    "GW_dts = GWDataModule('/home/felipe/GW_playgorund/new project/data Osvaldo/classifier_o3/train/', \n",
    "                      '/home/felipe/GW_playgorund/new project/data Osvaldo/classifier_o3/val/', batch_size=32)"
   ]
  },
  {
   "cell_type": "code",
   "execution_count": 6,
   "metadata": {},
   "outputs": [],
   "source": [
    "GW_dts.setup()"
   ]
  },
  {
   "cell_type": "code",
   "execution_count": 7,
   "metadata": {},
   "outputs": [],
   "source": [
    "bt_x, bt_y = next(iter(GW_dts.train_dataloader()))"
   ]
  },
  {
   "cell_type": "code",
   "execution_count": 8,
   "metadata": {},
   "outputs": [],
   "source": [
    "def imshow(inp, title=None):\n",
    "    inp = inp.numpy().transpose((1,2,0))\n",
    "    mean = np.array([0.07621749,0.07365512,0.093327])\n",
    "    std = np.array([0.037140302,0.036283262,0.04071455])\n",
    "    inp = std * inp + mean\n",
    "    inp = np.clip(inp, 0, 1)\n",
    "    plt.imshow(inp)\n",
    "    if title is not None:\n",
    "        plt.title(title)"
   ]
  },
  {
   "cell_type": "code",
   "execution_count": 9,
   "metadata": {},
   "outputs": [],
   "source": [
    "grid_size = 4\n",
    "rnd_idx = [i.item() for i in np.random.randint(0, len(bt_x),4)]\n",
    "x_grid = [bt_x[i] for i in rnd_idx]\n",
    "y_grid = [bt_y[i] for i in rnd_idx]"
   ]
  },
  {
   "cell_type": "code",
   "execution_count": 10,
   "metadata": {},
   "outputs": [],
   "source": [
    "x_grid = make_grid(x_grid, nrow=grid_size, padding=1)"
   ]
  },
  {
   "cell_type": "code",
   "execution_count": 11,
   "metadata": {},
   "outputs": [
    {
     "data": {
      "image/png": "[encoded data removed]",
      "text/plain": [
       "<Figure size 864x576 with 1 Axes>"
      ]
     },
     "metadata": {
      "needs_background": "light"
     },
     "output_type": "display_data"
    }
   ],
   "source": [
    "plt.figure(figsize=(12,8))\n",
    "imshow(x_grid, title=[GW_dts.train_ds.classes[i] for i in y_grid])"
   ]
  },
  {
   "cell_type": "code",
   "execution_count": 12,
   "metadata": {},
   "outputs": [],
   "source": [
    "def squared_euclidean_distance(a, b):\n",
    "    b = torch.transpose(b, 0, 1)\n",
    "    a2 = torch.sum(torch.square(a), dim=1, keepdims=True)\n",
    "    b2 = torch.sum(torch.square(b), dim=0, keepdims=True)\n",
    "    ab = torch.matmul(a, b)\n",
    "    d = a2 - 2 * ab + b2\n",
    "    return d\n",
    "\n",
    "\n",
    "def quantize(x, centroids):\n",
    "    b, c, h, w = x.shape\n",
    "    # [B, C, H, W] => [B, H, W, C]\n",
    "    x = x.permute(0, 2, 3, 1).contiguous()\n",
    "    x = x.view(-1, c)  # flatten to pixels\n",
    "    d = squared_euclidean_distance(x, centroids)\n",
    "    x = torch.argmin(d, 1)\n",
    "    x = x.view(b, h, w)\n",
    "    return x\n",
    "\n",
    "\n",
    "def unquantize(x, centroids):\n",
    "    return centroids[x]"
   ]
  },
  {
   "cell_type": "code",
   "execution_count": 13,
   "metadata": {},
   "outputs": [],
   "source": [
    "def _to_sequence(x):\n",
    "    \"\"\"shape batch of images for input into GPT2 model\"\"\"\n",
    "    x = x.view(x.shape[0], -1)  # flatten images into sequences\n",
    "    x = x.transpose(0, 1).contiguous()  # to shape [seq len, batch]\n",
    "    return x"
   ]
  },
  {
   "cell_type": "code",
   "execution_count": 14,
   "metadata": {},
   "outputs": [],
   "source": [
    "from QGPT2 import GPT2"
   ]
  },
  {
   "cell_type": "code",
   "execution_count": 15,
   "metadata": {},
   "outputs": [],
   "source": [
    "class ImageGPT(pl.LightningModule):\n",
    "    def __init__(\n",
    "        self,\n",
    "        centroids,\n",
    "        embed_dim=16,\n",
    "        num_heads=2,\n",
    "        num_layers=1,\n",
    "        num_pixels=28,\n",
    "        num_vocab=16,\n",
    "        num_classes=10,\n",
    "        classify=False,\n",
    "        learning_rate=3e-3,\n",
    "        steps=10_000,\n",
    "        warmup_steps=500,\n",
    "        **kwargs,\n",
    "    ):\n",
    "        super(ImageGPT, self).__init__()\n",
    "        self.save_hyperparameters()\n",
    "        self.gpt = GPT2(\n",
    "            embed_dim=embed_dim,\n",
    "            heads=num_heads,\n",
    "            layers=num_layers,\n",
    "            num_positions=num_pixels * num_pixels,\n",
    "            vocab_size=num_vocab,\n",
    "            num_classes=num_classes,\n",
    "            num_qubits = 6, \n",
    "            num_qc_layers = 2\n",
    "        )\n",
    "\n",
    "        self.centroids = nn.Parameter(\n",
    "            torch.from_numpy(np.load(centroids)), requires_grad=False\n",
    "        )\n",
    "        self.criterion = nn.CrossEntropyLoss()\n",
    "        self.classify = classify\n",
    "        self.learning_rate = learning_rate\n",
    "        self.steps = steps\n",
    "        self.warmup_steps = warmup_steps\n",
    "        self.acc = pl.metrics.Accuracy()\n",
    "\n",
    "    def configure_optimizers(self):\n",
    "        optimizer = torch.optim.Adam(self.gpt.parameters(), lr=self.learning_rate)\n",
    "\n",
    "        # no learning rate schedule for fine-tuning\n",
    "        if self.classify:\n",
    "            return optimizer\n",
    "\n",
    "        scheduler = {\n",
    "            \"scheduler\": LambdaLR(\n",
    "                optimizer, learning_rate_schedule(self.warmup_steps, self.steps)\n",
    "            ),\n",
    "            \"interval\": \"step\",\n",
    "        }\n",
    "        return [optimizer], [scheduler]\n",
    "\n",
    "    def forward(self, x):\n",
    "        #x = quantize(x, self.centroids)\n",
    "        #x = _to_sequence(x)\n",
    "        return self.gpt(x, self.classify)\n",
    "\n",
    "    def training_step(self, batch, batch_idx):\n",
    "        x, y = batch\n",
    "        x = quantize(x, self.centroids)\n",
    "        x = _to_sequence(x)\n",
    "        \n",
    "        clf_logits, logits = self(x)\n",
    "        clf_loss = self.criterion(clf_logits, y)\n",
    "        gen_loss = self.criterion(logits.view(-1, logits.size(-1)), x.view(-1))\n",
    "        # joint loss for classification\n",
    "        loss = clf_loss + gen_loss\n",
    "        #self.log('train_loss', loss)\n",
    "        #self.log('train_acc', self.acc(clf_logits, y))\n",
    "        #tensorboard = self.logger.experiment\n",
    "        #tensorboard.add_graph(self, x)\n",
    "        return {'train_loss': loss, 'clf_logits': clf_logits, 'targets':y}\n",
    "    \n",
    "    def training_step_end(self, outputs):\n",
    "        train_acc = self.acc(outputs['clf_logits'], outputs['targets'])\n",
    "        self.log('train_loss', outputs['train_loss'])\n",
    "        self.log('train_acc', train_acc*100)\n",
    "\n",
    "    def validation_step(self, batch, batch_idx):\n",
    "        x, y = batch\n",
    "\n",
    "        x = quantize(x, self.centroids)\n",
    "        x = _to_sequence(x)\n",
    "\n",
    "        clf_logits, logits = self.gpt(x, classify=True)\n",
    "        clf_loss = self.criterion(clf_logits, y)\n",
    "        gen_loss = self.criterion(logits.view(-1, logits.size(-1)), x.view(-1))\n",
    "        # joint loss for classification\n",
    "        loss = clf_loss + gen_loss\n",
    "        \n",
    "        return {'val_loss':loss, 'clf_logits':clf_logits, 'val_targets':y}\n",
    "    \n",
    "    def validation_step_end(self, outputs):\n",
    "        val_acc = self.acc(outputs['clf_logits'], outputs['val_targets'])\n",
    "        self.log('val_loss', outputs['val_loss'])\n",
    "        self.log('val_acc', val_acc*100)\n",
    "\n",
    "\n",
    "    def test_step(self, batch, batch_idx):\n",
    "        return self.validation_step(batch, batch_idx)"
   ]
  },
  {
   "cell_type": "code",
   "execution_count": 16,
   "metadata": {},
   "outputs": [],
   "source": [
    "model = ImageGPT('/home/felipe/GW_playgorund/new project/data Osvaldo/centroids.npy', steps=25_000, num_classes=3, classify=True)"
   ]
  },
  {
   "cell_type": "code",
   "execution_count": 17,
   "metadata": {},
   "outputs": [
    {
     "name": "stderr",
     "output_type": "stream",
     "text": [
      "/home/felipe/anaconda3/envs/pennylane/lib/python3.7/site-packages/pytorch_lightning/utilities/distributed.py:49: UserWarning: num_processes is only used for `accelerator='ddp_cpu'`. Ignoring it.\n",
      "  warnings.warn(*args, **kwargs)\n",
      "GPU available: True, used: True\n",
      "INFO:lightning:GPU available: True, used: True\n",
      "TPU available: None, using: 0 TPU cores\n",
      "INFO:lightning:TPU available: None, using: 0 TPU cores\n",
      "LOCAL_RANK: 0 - CUDA_VISIBLE_DEVICES: [0]\n",
      "INFO:lightning:LOCAL_RANK: 0 - CUDA_VISIBLE_DEVICES: [0]\n"
     ]
    }
   ],
   "source": [
    "trainer = pl.Trainer(gpus=1, num_processes=4, max_epochs=1, progress_bar_refresh_rate=20,\n",
    "                     limit_train_batches=0.1, limit_val_batches=0.1)"
   ]
  },
  {
   "cell_type": "code",
   "execution_count": 18,
   "metadata": {},
   "outputs": [
    {
     "name": "stderr",
     "output_type": "stream",
     "text": [
      "\n",
      "  | Name      | Type             | Params\n",
      "-----------------------------------------------\n",
      "0 | gpt       | GPT2             | 23.1 K\n",
      "1 | criterion | CrossEntropyLoss | 0     \n",
      "2 | acc       | Accuracy         | 0     \n",
      "-----------------------------------------------\n",
      "23.1 K    Trainable params\n",
      "48        Non-trainable params\n",
      "23.2 K    Total params\n",
      "INFO:lightning:\n",
      "  | Name      | Type             | Params\n",
      "-----------------------------------------------\n",
      "0 | gpt       | GPT2             | 23.1 K\n",
      "1 | criterion | CrossEntropyLoss | 0     \n",
      "2 | acc       | Accuracy         | 0     \n",
      "-----------------------------------------------\n",
      "23.1 K    Trainable params\n",
      "48        Non-trainable params\n",
      "23.2 K    Total params\n"
     ]
    },
    {
     "data": {
      "application/vnd.jupyter.widget-view+json": {
       "model_id": "7f477ec20c924fb3abcfe9299da4d685",
       "version_major": 2,
       "version_minor": 0
      },
      "text/plain": [
       "Validation sanity check: 0it [00:00, ?it/s]"
      ]
     },
     "metadata": {},
     "output_type": "display_data"
    },
    {
     "data": {
      "application/vnd.jupyter.widget-view+json": {
       "model_id": "5c5d85a7ab2448e39cb69dfc4dcfc366",
       "version_major": 2,
       "version_minor": 0
      },
      "text/plain": [
       "Training: 0it [00:00, ?it/s]"
      ]
     },
     "metadata": {},
     "output_type": "display_data"
    },
    {
     "name": "stderr",
     "output_type": "stream",
     "text": [
      "/home/felipe/anaconda3/envs/pennylane/lib/python3.7/site-packages/pytorch_lightning/utilities/distributed.py:49: UserWarning: training_step returned None if it was on purpose, ignore this warning...\n",
      "  warnings.warn(*args, **kwargs)\n"
     ]
    },
    {
     "data": {
      "application/vnd.jupyter.widget-view+json": {
       "model_id": "1aa15166f4db47d197acce89fd35faa3",
       "version_major": 2,
       "version_minor": 0
      },
      "text/plain": [
       "Validating: 0it [00:00, ?it/s]"
      ]
     },
     "metadata": {},
     "output_type": "display_data"
    },
    {
     "name": "stderr",
     "output_type": "stream",
     "text": [
      "/home/felipe/anaconda3/envs/pennylane/lib/python3.7/site-packages/pytorch_lightning/utilities/distributed.py:49: UserWarning: Detected KeyboardInterrupt, attempting graceful shutdown...\n",
      "  warnings.warn(*args, **kwargs)\n"
     ]
    },
    {
     "data": {
      "text/plain": [
       "1"
      ]
     },
     "execution_count": 18,
     "metadata": {},
     "output_type": "execute_result"
    }
   ],
   "source": [
    "trainer.fit(model, GW_dts)"
   ]
  },
  {
   "cell_type": "code",
   "execution_count": null,
   "metadata": {},
   "outputs": [],
   "source": []
  }
 ],
 "metadata": {
  "kernelspec": {
   "display_name": "PennyLane",
   "language": "python",
   "name": "pennylane"
  },
  "language_info": {
   "codemirror_mode": {
    "name": "ipython",
    "version": 3
   },
   "file_extension": ".py",
   "mimetype": "text/x-python",
   "name": "python",
   "nbconvert_exporter": "python",
   "pygments_lexer": "ipython3",
   "version": "3.7.9"
  }
 },
 "nbformat": 4,
 "nbformat_minor": 4
}
